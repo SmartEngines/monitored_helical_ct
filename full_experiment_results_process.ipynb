{
 "cells": [
  {
   "cell_type": "code",
   "execution_count": 1,
   "metadata": {},
   "outputs": [],
   "source": [
    "import matplotlib.pyplot as plt\n",
    "import numpy as np\n",
    "import cv2\n",
    "import os\n",
    "import random\n",
    "import pandas as pd\n",
    "import csv\n"
   ]
  },
  {
   "cell_type": "markdown",
   "metadata": {},
   "source": [
    "## Set your paths here"
   ]
  },
  {
   "cell_type": "code",
   "execution_count": 2,
   "metadata": {},
   "outputs": [],
   "source": [
    "results_path = 'your_root_path/exp_results/'\n",
    "dataset_path = 'your_root_path/data/COVID-CTset/'\n",
    "tmp_results_path = 'your_root_path/tmp/'\n",
    "NN_path = 'your_root_path/data/trained_networks/FPN-fold1.hdf5'"
   ]
  },
  {
   "cell_type": "markdown",
   "metadata": {},
   "source": [
    "## Precalculate predictions for an initial data from COVID-CTset"
   ]
  },
  {
   "cell_type": "code",
   "execution_count": 3,
   "metadata": {},
   "outputs": [],
   "source": [
    "import keras\n",
    "from keras import optimizers\n",
    "from keras.models import Sequential,Model\n",
    "from keras.layers import Dropout, Flatten, Dense,Input\n",
    "from keras.callbacks import ModelCheckpoint\n",
    "from keras.applications.imagenet_utils import preprocess_input\n",
    "from keras import backend as K\n",
    "from keras.preprocessing.image import ImageDataGenerator\n",
    "from keras.initializers import RandomNormal\n",
    "import keras.backend as k\n",
    "from keras_retinanet import layers\n",
    "import keras_retinanet\n",
    "import zipfile\n",
    "\n",
    "def precalc(folder_path, idxs):\n",
    "    NN_name = 'FPN-fold1'\n",
    "    k.clear_session()\n",
    "    custom_object={'UpsampleLike': keras_retinanet.layers._misc.UpsampleLike}\n",
    "    net=keras.models.load_model(NN_path, custom_objects=custom_object)\n",
    "        \n",
    "    for p_idx in idxs:\n",
    "        data = {}\n",
    "        result = f\"{folder_path}predictions_{p_idx}\"\n",
    "        with open(result, 'r') as f:\n",
    "            while True:\n",
    "                a = f.readline()\n",
    "                if a:\n",
    "                    a = a.split(\",\")\n",
    "                    patient_name = a[0]\n",
    "                    idx = int(a[1])\n",
    "                    predictions = list([float(x) for x in a[2:]])\n",
    "                else:\n",
    "                    break\n",
    "                data.update({idx:predictions})\n",
    "        covid = \"covid\" in patient_name\n",
    "        result = f\"{folder_path}projections_{p_idx}\"\n",
    "        \n",
    "        patient_name_ = patient_name.replace('/', '_')\n",
    "        \n",
    "        df = f'{dataset_path}{patient_name}'\n",
    "        list_names = []\n",
    "        predictions = []\n",
    "        for r,d,f in os.walk(df):\n",
    "            for file in f:\n",
    "                if '.tif' in file:\n",
    "                    list_names.append(os.path.join(r,file))\n",
    "        list_names = sorted(list_names)\n",
    "        \n",
    "        for img_name in list_names:\n",
    "            img=cv2.imread(img_name,cv2.IMREAD_UNCHANGED)\n",
    "            pred_ind = net.predict(np.expand_dims(np.expand_dims(img,axis=0),axis=3))[0][0]\n",
    "            predictions.append(int(pred_ind > 0.5))\n",
    "        res_path = f\"{tmp_results_path}{patient_name_}.csv\"\n",
    "        with open(res_path, 'w') as f:\n",
    "            f.write('')\n",
    "        with open(res_path, 'a') as f:\n",
    "            for a in predictions:\n",
    "                f.write(str(a) + '\\n')\n",
    "\n",
    "for name in os.listdir(results_path):\n",
    "    if \"full_experiment\" in name:\n",
    "        label = name[16:]\n",
    "        idxs = []\n",
    "        p = results_path + name + '/'\n",
    "        for patient in os.listdir(p):\n",
    "            if 'predictions' in patient:\n",
    "                idxs.append(patient[12:])\n",
    "        precalc(p, idxs)"
   ]
  },
  {
   "cell_type": "markdown",
   "metadata": {},
   "source": [
    "## Load last predictions from history and summarize for each rule"
   ]
  },
  {
   "cell_type": "code",
   "execution_count": 4,
   "metadata": {},
   "outputs": [],
   "source": [
    "def get_quality(folder_path, idxs):\n",
    "    total_q = 0\n",
    "    total_count = 0\n",
    "    sum_dose = 0\n",
    "    sum_full_dose = 0\n",
    "    sum_reduced_dose = 0\n",
    "    for p_idx in idxs:\n",
    "        data = {}\n",
    "        result = f\"{folder_path}predictions_{p_idx}\"\n",
    "        rule = result.split(\"L\")[-1].split(\"t\")\n",
    "        L = int(rule[0])\n",
    "        t = int(rule[1].split(\"/\")[0])\n",
    "        with open(result, 'r') as f:\n",
    "            while True:\n",
    "                a = f.readline()\n",
    "                if a:\n",
    "                    a = a.split(\",\")\n",
    "                    patient_name = a[0]\n",
    "                    idx = int(a[1])\n",
    "                    predictions = list([float(x) for x in a[2:]])\n",
    "                else:\n",
    "                    break\n",
    "                data.update({idx:predictions})\n",
    "        covid = \"covid\" in patient_name\n",
    "        result = f\"{folder_path}projections_{p_idx}\"\n",
    "        proj_time = []\n",
    "        reduced_dose = -1\n",
    "        with open(result, 'r') as f:\n",
    "            for row in f:\n",
    "                proj_time.append(row)\n",
    "        \n",
    "        proj_time = proj_time[1:]\n",
    "        proj_time = np.asarray(sorted(set(proj_time)))\n",
    "        proj_time = proj_time.astype('int')\n",
    "        proj_count = np.max(proj_time) + 1\n",
    "        proj_int = np.zeros((proj_count))\n",
    "        for i in proj_time:\n",
    "            proj_int[i - 1] = 1\n",
    "        \n",
    "        patient_name_ = patient_name.replace('/', '_')\n",
    "        y = []\n",
    "        covid_count = 0\n",
    "        for d in sorted(data.keys()):\n",
    "            a = np.array(data[d][-1]) > 0.5\n",
    "            y.append(a)\n",
    "            covid_count+=a\n",
    "            \n",
    "        predictions = []\n",
    "        covid_count_full_dose = 0\n",
    "        res_path = f\"{tmp_results_path}{patient_name_}.csv\"\n",
    "        with open(res_path, 'r') as f:\n",
    "            for row in f:\n",
    "                predictions.append(int(row))\n",
    "                covid_count_full_dose += int(row)\n",
    "        \n",
    "        patient_q = 0\n",
    "        for i in range(len(y)):\n",
    "            patient_q += y[i] == predictions[i]\n",
    "            total_q += y[i] == predictions[i]\n",
    "            total_count += 1\n",
    "        if len(y) == 0:\n",
    "            continue\n",
    "            \n",
    "        patient_q /= len(y)\n",
    "        sum_dose += proj_time.shape[0]\n",
    "        sum_full_dose += proj_count\n",
    "    \n",
    "    return(total_q, total_count, sum_dose, sum_full_dose)\n",
    "        \n",
    "    "
   ]
  },
  {
   "cell_type": "markdown",
   "metadata": {},
   "source": [
    "## Loop over all full_experiment's"
   ]
  },
  {
   "cell_type": "code",
   "execution_count": 5,
   "metadata": {},
   "outputs": [],
   "source": [
    "full_table  = []\n",
    "description = []\n",
    "quality     = []\n",
    "dose        = []\n",
    "count = 0\n",
    "sum_sclices = 0\n",
    "for name in os.listdir(results_path):\n",
    "    if \"full_experiment\" in name:\n",
    "        label = name[16:]\n",
    "        idxs = []\n",
    "        p = results_path + name + '/'\n",
    "        for patient in os.listdir(p):\n",
    "            if 'predictions' in patient:\n",
    "                idxs.append(patient[12:])\n",
    "                count += 1\n",
    "        total_correct, total_slices, reduced_dose, full_dose = get_quality(p, idxs)\n",
    "        full_table.append((label, total_correct/total_slices, reduced_dose/full_dose)) \n",
    "        description.append(label)\n",
    "        quality.append(total_correct/total_slices)\n",
    "        dose.append(reduced_dose/full_dose)"
   ]
  },
  {
   "cell_type": "markdown",
   "metadata": {},
   "source": [
    "## Table 2"
   ]
  },
  {
   "cell_type": "code",
   "execution_count": null,
   "metadata": {},
   "outputs": [],
   "source": [
    "full_dict = {}\n",
    "for name in os.listdir(results_path):\n",
    "    if \"full_experiment\" in name:\n",
    "        label = name[16:]\n",
    "        idxs = []\n",
    "        p = results_path + name + '/'\n",
    "        for patient in os.listdir(p):\n",
    "            if 'predictions' in patient:\n",
    "                idxs.append(patient[12:])\n",
    "        total_correct, total_slices, reduced_dose, full_dose = get_quality(p, idxs)\n",
    "        t_c, t_s, r_d, f_d = full_dict.get(label, (0,0,0,0))\n",
    "        full_dict.update({label: (t_c + total_correct, t_s+total_slices, r_d+reduced_dose, f_d + full_dose)})\n",
    "full_table  = []\n",
    "description = []\n",
    "quality     = []\n",
    "dose        = []\n",
    "for label in full_dict.keys():\n",
    "    description.append(label)\n",
    "    total_correct, total_slices, reduced_dose, full_dose = full_dict.get(label, (0,0,0,0))\n",
    "    quality.append(total_correct/total_slices)\n",
    "    dose.append(reduced_dose/full_dose)\n",
    "\n",
    "print(description)\n",
    "print(quality)\n",
    "print(dose)"
   ]
  },
  {
   "cell_type": "markdown",
   "metadata": {},
   "source": [
    "## Results for positive and negative cases"
   ]
  },
  {
   "cell_type": "code",
   "execution_count": null,
   "metadata": {},
   "outputs": [],
   "source": [
    "full_dict = [{}, {}]\n",
    "for name in os.listdir(results_path):\n",
    "    if \"full_experiment\" in name:\n",
    "        label = name[16:]\n",
    "        p = results_path + name + '/'\n",
    "        for patient in os.listdir(p):\n",
    "            idxs = []\n",
    "            if 'predictions' in patient:\n",
    "                idxs.append(patient[12:])\n",
    "                idx = 1\n",
    "                if 'covid' in patient:\n",
    "                    idx = 0\n",
    "                total_correct, total_slices, reduced_dose, full_dose = get_quality(p, idxs)\n",
    "                t_c, t_s, r_d, f_d = full_dict[idx].get(label, (0,0,0,0))\n",
    "                full_dict[idx].update({label: (t_c + total_correct, t_s+total_slices, r_d+reduced_dose, f_d + full_dose)})\n",
    "\n",
    "description_b = [[],[]]\n",
    "quality_b     = [[],[]]\n",
    "dose_b        = [[],[]]\n",
    "for i in range(2):\n",
    "    for label in full_dict[i].keys():\n",
    "        description_b[i].append(label)\n",
    "        total_correct, total_slices, reduced_dose, full_dose = full_dict[i].get(label, (0,0,0,0))\n",
    "        quality_b[i].append(total_correct/total_slices)\n",
    "        dose_b[i].append(reduced_dose/full_dose)\n",
    "print('covid')\n",
    "print(description_b[0])\n",
    "print(quality_b[0])\n",
    "print(dose_b[0])\n",
    "print('non_covid')\n",
    "print(description_b[1])\n",
    "print(quality_b[1])\n",
    "print(dose_b[1])"
   ]
  },
  {
   "cell_type": "markdown",
   "metadata": {},
   "source": [
    "## Plot the results"
   ]
  },
  {
   "cell_type": "code",
   "execution_count": 32,
   "metadata": {},
   "outputs": [],
   "source": [
    "def plot_scatter(description, quality, dose):\n",
    "    fig, ax = plt.subplots()\n",
    "    ax.scatter(dose, quality)\n",
    "    ax.set_ylabel('quality')\n",
    "    ax.set_xlabel('dose')\n",
    "    ax.set_ylim([0.8, 1.00])\n",
    "    ax.set_xlim([0.65, 1.00])\n",
    "    for i, txt in enumerate(description):\n",
    "        ax.annotate(txt, (dose[i]-0.006, quality[i]+0.003))\n",
    "    plt.show()"
   ]
  },
  {
   "cell_type": "code",
   "execution_count": null,
   "metadata": {},
   "outputs": [],
   "source": [
    "plot_scatter(description, quality, dose)\n",
    "plot_scatter(description_b[0], quality_b[0], dose_b[0])\n",
    "plot_scatter(description_b[1], quality_b[1], dose_b[1])"
   ]
  }
 ],
 "metadata": {
  "kernelspec": {
   "display_name": "Python 3 (ipykernel)",
   "language": "python",
   "name": "python3"
  },
  "language_info": {
   "codemirror_mode": {
    "name": "ipython",
    "version": 3
   },
   "file_extension": ".py",
   "mimetype": "text/x-python",
   "name": "python",
   "nbconvert_exporter": "python",
   "pygments_lexer": "ipython3",
   "version": "3.10.1"
  }
 },
 "nbformat": 4,
 "nbformat_minor": 4
}
